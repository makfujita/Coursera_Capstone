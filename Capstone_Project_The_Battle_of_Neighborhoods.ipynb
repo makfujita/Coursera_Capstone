{
 "cells": [
  {
   "cell_type": "markdown",
   "metadata": {},
   "source": [
    "# Capstone Project - The Battle of Neighborhoods"
   ]
  },
  {
   "cell_type": "markdown",
   "metadata": {},
   "source": [
    "## I) Introduction / Business Problem\n",
    "<div style=\"text-align: justify\">São Paulo is a city in the Southern Region of Brazil. The city is the capital of the state (São Paulo analogue with the city), the welthiest city in the country and of South Hemisphere, one of the 20th welthiest cities in the world, representing alone 10.7% of all Brazil GDP and the 13th most populous. Home of the São Paulo Stock Exchange. It exerts strong influence in commerce, finance, arts and entertainment in the country.<br>\n",
    "Brazil is a country of many contrasts and São Paulo is not different. With a Human Delepment Index like a european country in some regions and low as a score of 0.700 in others regions. Problems with high demographical density and with High Crime Rates. Given its diversity, the analysis will give good insight to cluster city´s districts with the same pattern and, in some level, help to understand where a new business should be placed.<br></div>"
   ]
  },
  {
   "cell_type": "markdown",
   "metadata": {},
   "source": [
    "## II) Data\n",
    "<div style=\"text-align: justify\">The necessary information needed in the analysis will come from different sources like wikipedia, city hall homepage, foursquare and secretary of public security of the state of São Paulo. The description of each data and the cleansing needed for it will be explained bellow. And all the granularity of the information is by City´s Districts. The District is an administrative division that aggregates neighborhoods. The aggragation of Districts becomes a sub-prefecture. And finally the sub-prefecture becomes a city.<BR>\n",
    "<ul>\n",
    "<li><b>Geographic Boundaries:</b> Come from the City Hall Homepage, with each district in the city and each respective geographic boundaries. Using the coordinates, I calculated the mean to discover the center. And the file is in a shape format and it will be converted a json format.</li><BR>\n",
    "<li><b>Population and Area:</b> Come from the City Hall Homepage, with the population of each district as consolidated in the last demographic census of 2010. And devived from these two pieces of information, the demoghaphic density.</li><BR>\n",
    "<li><b>Aging Index:</b> Come from the City Hall Homepage, with the aging index for each district. The aging index is the population equal or over 60 years old divided by the population under 14 years old multiplied by 100.</li><BR>\n",
    "<li><b>HDI:</b> Come from the Wikipedia. The data is from 2000, but is the most recent and trustworthy data that can be found in the internet.</li><BR>\n",
    "<li><b>Crime Rate:</b> Come from the secretary of public security of the state of São Paulo. The Rate is the aggregation of all types of crimes divided by the population and multiplied by 1000. The data is from 2019.</li><BR>\n",
    "<li><b>Foursquare API:</b> The API will be used to generate the most Commons venues of each district. Due to the great diversity of venues given by the API, it was necessary to cluster types of business such as restaurants in a only one type.</li><BR>\n",
    "</ul></div>\n"
   ]
  },
  {
   "cell_type": "code",
   "execution_count": null,
   "metadata": {},
   "outputs": [],
   "source": []
  },
  {
   "cell_type": "markdown",
   "metadata": {},
   "source": [
    "## References\n",
    "<ul>\n",
    "<li>https://www.prefeitura.sp.gov.br/cidade/secretarias/subprefeituras/subprefeituras/dados_demograficos/index.php?p=12758<BR></li>\n",
    "<li>https://pt.wikipedia.org/wiki/Lista_de_subprefeituras_do_munic%C3%ADpio_de_S%C3%A3o_Paulo<BR></li>\n",
    "<li>https://pt.wikipedia.org/wiki/Lista_de_subprefeituras_de_S%C3%A3o_Paulo_por_%C3%8Dndice_de_Desenvolvimento_Humano<BR></li>\n",
    "<li>http://observasampa.prefeitura.sp.gov.br/populacao<BR></li>\n",
    "<ul>"
   ]
  },
  {
   "cell_type": "code",
   "execution_count": null,
   "metadata": {},
   "outputs": [],
   "source": []
  }
 ],
 "metadata": {
  "kernelspec": {
   "display_name": "Python 3",
   "language": "python",
   "name": "python3"
  },
  "language_info": {
   "codemirror_mode": {
    "name": "ipython",
    "version": 3
   },
   "file_extension": ".py",
   "mimetype": "text/x-python",
   "name": "python",
   "nbconvert_exporter": "python",
   "pygments_lexer": "ipython3",
   "version": "3.7.3"
  }
 },
 "nbformat": 4,
 "nbformat_minor": 2
}
